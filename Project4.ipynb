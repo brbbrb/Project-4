{
 "cells": [
  {
   "cell_type": "code",
   "execution_count": 6,
   "id": "4f7c95d8",
   "metadata": {},
   "outputs": [],
   "source": [
    "%matplotlib inline\n",
    "%config InlineBackend.figure_format = 'svg'\n",
    "\n",
    "import warnings\n",
    "warnings.filterwarnings('ignore')\n",
    "import numpy as np\n",
    "import pandas as pd   \n",
    "import matplotlib.pyplot as plt\n",
    "import seaborn as sns\n",
    "from imblearn.over_sampling import SMOTE\n",
    "import itertools\n",
    "\n",
    "import psycopg2\n",
    "from sqlalchemy import create_engine\n",
    "\n",
    "from sklearn.model_selection import train_test_split\n",
    "from sklearn.metrics import accuracy_score, confusion_matrix\n",
    "from sklearn.linear_model import LogisticRegression\n",
    "from sklearn.tree import DecisionTreeClassifier\n",
    "\n",
    "# from xgboost import XGBClassifier\n",
    "# from lightgbm import LGBMClassifier\n",
    "# from catboost import CatBoostClassifier\n",
    "from sklearn import svm\n",
    "from sklearn.ensemble import RandomForestClassifier"
   ]
  },
  {
   "cell_type": "code",
   "execution_count": null,
   "id": "be63ea9a",
   "metadata": {},
   "outputs": [],
   "source": [
    "# Example python program to read data from a PostgreSQL table\n",
    "# Create an engine instance\n",
    "\n",
    "alchemyEngine   = create_engine('postgresql+psycopg2://test:@127.0.0.1', pool_recycle=3600);\n",
    "\n",
    "# Connect to PostgreSQL server\n",
    "\n",
    "dbConnection    = alchemyEngine.connect();\n",
    "\n",
    "# Read data from PostgreSQL database table and load into a DataFrame instance\n",
    "\n",
    "dataFrame       = pds.read_sql(\"select * from \\\"StudentScores\\\"\", dbConnection);\n",
    "\n",
    "pds.set_option('display.expand_frame_repr', False);\n",
    "\n",
    "# Print the DataFrame\n",
    "\n",
    "print(dataFrame);\n",
    "\n",
    "# Close the database connection\n",
    "\n",
    "dbConnection.close();"
   ]
  }
 ],
 "metadata": {
  "kernelspec": {
   "display_name": "Python 3",
   "language": "python",
   "name": "python3"
  },
  "language_info": {
   "codemirror_mode": {
    "name": "ipython",
    "version": 3
   },
   "file_extension": ".py",
   "mimetype": "text/x-python",
   "name": "python",
   "nbconvert_exporter": "python",
   "pygments_lexer": "ipython3",
   "version": "3.8.8"
  }
 },
 "nbformat": 4,
 "nbformat_minor": 5
}
